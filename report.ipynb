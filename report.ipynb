{
 "cells": [
  {
   "cell_type": "markdown",
   "metadata": {
    "collapsed": true
   },
   "source": [
    "# Movie Review Sentiment Prediction\n",
    "\n",
    "This report is written with jupyter notebook and converted to pdf, so if you have jupyter installed, you can run the file report.ipynb.\n",
    "\n",
    "Use nltk to tokenize and count the number of each words. For information on installation see README."
   ]
  },
  {
   "cell_type": "code",
   "execution_count": 39,
   "metadata": {
    "collapsed": true
   },
   "outputs": [],
   "source": [
    "import numpy as np\n",
    "import matplotlib.pyplot as plt\n",
    "import nltk\n",
    "import os\n",
    "from nltk.tokenize import RegexpTokenizer"
   ]
  },
  {
   "cell_type": "markdown",
   "metadata": {},
   "source": [
    "### Preprocessing\n",
    "\n",
    "Use os.listdir to find all file names and then iterate throught them and read each file into a string, omitting linebreaks and apostrophes."
   ]
  },
  {
   "cell_type": "code",
   "execution_count": null,
   "metadata": {},
   "outputs": [],
   "source": [
    "reviews_dir_pos = 'review_polarity/txt_sentoken/pos'\n",
    "reviews_dir_neg = 'review_polarity/txt_sentoken/neg'\n",
    "pos_reviews = os.listdir(reviews_dir_pos)\n",
    "neg_reviews = os.listdir(reviews_dir_neg)\n",
    "\n",
    "positive_str = []\n",
    "negative_str = []\n",
    "# read in positive reviews\n",
    "for review in pos_reviews:\n",
    "    with open(os.path.join(reviews_dir_pos, review), 'r') as file:\n",
    "        review_str = file.read().replace('\\n', '').replace(\"'\", '')\n",
    "        positive_str.append(review_str)\n",
    "        \n",
    "for review in neg_reviews:\n",
    "    with open(os.path.join(reviews_dir_neg, review), 'r') as file:\n",
    "        review_str = file.read().replace('\\n', '')\n",
    "        negative_str.append(review_str)"
   ]
  },
  {
   "cell_type": "markdown",
   "metadata": {},
   "source": [
    ""
   ]
  },
  {
   "cell_type": "code",
   "execution_count": null,
   "metadata": {},
   "outputs": [],
   "source": [
    "pos_mega_str = ''.join(positive_str)\n",
    "neg_mega_str = ''.join(negative_str)"
   ]
  },
  {
   "cell_type": "markdown",
   "metadata": {},
   "source": [
    "Tokenize the strings, remove punctuations at the same time."
   ]
  },
  {
   "cell_type": "code",
   "execution_count": 40,
   "metadata": {},
   "outputs": [],
   "source": [
    "tokenizer = RegexpTokenizer(r'\\w+')\n",
    "pos_tokens = tokenizer.tokenize(pos_mega_str)\n",
    "neg_tokens = tokenizer.tokenize(neg_mega_str)"
   ]
  },
  {
   "cell_type": "markdown",
   "metadata": {},
   "source": [
    "The next step is to get the count for each word and remove the 35 top most frequent words since they are unlikely to express sentiments."
   ]
  },
  {
   "cell_type": "code",
   "execution_count": 73,
   "metadata": {},
   "outputs": [
    {
     "name": "stdout",
     "output_type": "stream",
     "text": [
      "Top 35 most common words in positive reviews: \n[('the', 41470), ('a', 20190), ('and', 19896),\n ('of', 18636), ('to', 16517), ('is', 14059),\n ('in', 11725), ('that', 7763), ('as', 6478),\n ('it', 6444), ('with', 5851), ('his', 5588),\n ('for', 5260), ('film', 4909), ('this', 4647),\n ('but', 4492), ('he', 4339), ('on', 3724),\n ('are', 3713), ('i', 3472), ('by', 3466),\n ('its', 3169), ('an', 3052), ('be', 3028),\n ('one', 3016), ('not', 2926), ('who', 2913),\n ('from', 2731), ('has', 2564), ('at', 2495),\n ('was', 2477), ('her', 2456), ('movie', 2419),\n ('have', 2240), ('you', 2221)]\n==============================\nTop 35 most common words in negative reviews: \n[('the', 35058), ('a', 17910), ('and', 15680),\n ('of', 15487), ('to', 15420), ('is', 11136),\n ('in', 10097), ('s', 8854), ('that', 7803),\n ('it', 7756), ('with', 4941), ('this', 4930),\n ('as', 4900), ('i', 4787), ('for', 4701),\n ('film', 4287), ('but', 4142), ('his', 3999),\n ('he', 3928), ('on', 3658), ('t', 3555),\n ('movie', 3246), ('are', 3236), ('be', 3145),\n ('one', 2800), ('by', 2795), ('you', 2722),\n ('an', 2692), ('have', 2661), ('not', 2651),\n ('who', 2635), ('they', 2493), ('at', 2491),\n ('was', 2463), ('from', 2268)]\n==============================\nTotal unique words in positive reviews: 31759\nTotal unique words in negative reviews: 28422\n"
     ]
    }
   ],
   "source": [
    "import pprint\n",
    "from collections import Counter\n",
    "\n",
    "pos_count = Counter(pos_tokens)\n",
    "neg_count = Counter(neg_tokens)\n",
    "\n",
    "pp = pprint.PrettyPrinter(compact=True, width=50)\n",
    "\n",
    "print('Top {} most common words in positive reviews: '.format(35))\n",
    "pp.pprint(pos_count.most_common(35))\n",
    "print('==============================')\n",
    "print('Top {} most common words in negative reviews: '.format(35))\n",
    "pp.pprint(neg_count.most_common(35))\n",
    "\n",
    "for key in pos_count.most_common(35):\n",
    "    del pos_count[key]\n",
    "    \n",
    "for key in neg_count.most_common(35):\n",
    "    del neg_count[key]\n",
    "\n",
    "print('==============================')\n",
    "print('Total unique words in positive reviews: {}'.format(len(pos_count)))\n",
    "print('Total unique words in negative reviews: {}'.format(len(neg_count)))"
   ]
  },
  {
   "cell_type": "code",
   "execution_count": null,
   "metadata": {},
   "outputs": [],
   "source": [
    ""
   ]
  }
 ],
 "metadata": {
  "kernelspec": {
   "display_name": "Python 2",
   "language": "python",
   "name": "python2"
  },
  "language_info": {
   "codemirror_mode": {
    "name": "ipython",
    "version": 2.0
   },
   "file_extension": ".py",
   "mimetype": "text/x-python",
   "name": "python",
   "nbconvert_exporter": "python",
   "pygments_lexer": "ipython2",
   "version": "2.7.6"
  }
 },
 "nbformat": 4,
 "nbformat_minor": 0
}